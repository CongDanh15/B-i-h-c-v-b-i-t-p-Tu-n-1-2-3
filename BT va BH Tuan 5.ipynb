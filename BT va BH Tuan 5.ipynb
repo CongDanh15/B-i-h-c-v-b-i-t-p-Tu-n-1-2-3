{
  "nbformat": 4,
  "nbformat_minor": 0,
  "metadata": {
    "colab": {
      "provenance": [],
      "collapsed_sections": [],
      "authorship_tag": "ABX9TyM1EoI8RX+ZI4tJTEe1ma0V",
      "include_colab_link": true
    },
    "kernelspec": {
      "name": "python3",
      "display_name": "Python 3"
    },
    "language_info": {
      "name": "python"
    }
  },
  "cells": [
    {
      "cell_type": "markdown",
      "metadata": {
        "id": "view-in-github",
        "colab_type": "text"
      },
      "source": [
        "<a href=\"https://colab.research.google.com/github/CongDanh15/BH-va-BT-Tuan-1-2-3-/blob/main/BT%20va%20BH%20Tuan%205.ipynb\" target=\"_parent\"><img src=\"https://colab.research.google.com/assets/colab-badge.svg\" alt=\"Open In Colab\"/></a>"
      ]
    },
    {
      "cell_type": "code",
      "execution_count": null,
      "metadata": {
        "colab": {
          "base_uri": "https://localhost:8080/"
        },
        "id": "9hPSOiob08vx",
        "outputId": "9675c01c-591f-476a-c7d8-0b9354377315"
      },
      "outputs": [
        {
          "output_type": "stream",
          "name": "stdout",
          "text": [
            "Looking in indexes: https://pypi.org/simple, https://us-python.pkg.dev/colab-wheels/public/simple/\n",
            "Collecting scikit-fuzzy\n",
            "  Downloading scikit-fuzzy-0.4.2.tar.gz (993 kB)\n",
            "\u001b[K     |████████████████████████████████| 993 kB 7.6 MB/s \n",
            "\u001b[?25hRequirement already satisfied: numpy>=1.6.0 in /usr/local/lib/python3.7/dist-packages (from scikit-fuzzy) (1.21.6)\n",
            "Requirement already satisfied: scipy>=0.9.0 in /usr/local/lib/python3.7/dist-packages (from scikit-fuzzy) (1.7.3)\n",
            "Requirement already satisfied: networkx>=1.9.0 in /usr/local/lib/python3.7/dist-packages (from scikit-fuzzy) (2.6.3)\n",
            "Building wheels for collected packages: scikit-fuzzy\n",
            "  Building wheel for scikit-fuzzy (setup.py) ... \u001b[?25l\u001b[?25hdone\n",
            "  Created wheel for scikit-fuzzy: filename=scikit_fuzzy-0.4.2-py3-none-any.whl size=894089 sha256=37ae63c8643d2c3e1ead11ea164dacbc8a07942718f8fcc62a5c702458cbdddd\n",
            "  Stored in directory: /root/.cache/pip/wheels/d5/74/fc/38588a3d2e3f34f74588e6daa3aa5b0a322bd6f9420a707131\n",
            "Successfully built scikit-fuzzy\n",
            "Installing collected packages: scikit-fuzzy\n",
            "Successfully installed scikit-fuzzy-0.4.2\n"
          ]
        }
      ],
      "source": [
        "pip install scikit-fuzzy"
      ]
    },
    {
      "cell_type": "code",
      "source": [
        "import numpy as np\n",
        "import skfuzzy as fuzz\n",
        "x= np.arange(11)\n",
        "mfx=fuzz.trimf(x,[0,5,10])\n",
        "x\n",
        "mfx"
      ],
      "metadata": {
        "colab": {
          "base_uri": "https://localhost:8080/"
        },
        "id": "UQMn0mRz1QQJ",
        "outputId": "81d4092a-9bd3-4b44-fb33-1824395c9cf9"
      },
      "execution_count": null,
      "outputs": [
        {
          "output_type": "execute_result",
          "data": {
            "text/plain": [
              "array([0. , 0.2, 0.4, 0.6, 0.8, 1. , 0.8, 0.6, 0.4, 0.2, 0. ])"
            ]
          },
          "metadata": {},
          "execution_count": 3
        }
      ]
    },
    {
      "cell_type": "code",
      "source": [
        "import numpy as np\n",
        "import skfuzzy as fuzz\n",
        "from skfuzzy import control as ctrl\n",
        "food=ctrl.Antecedent(np.arange(0,11,1),'food')\n",
        "service = ctrl.Antecedent(np.arange(0,11,1),'service')\n",
        "tip=ctrl.Consequent(np.arange(10,26,1),'tip')\n",
        "food['poor']=fuzz.trimf(food.universe,[0,0,5])\n",
        "food['average']=fuzz.trimf(food.universe,[0,5,10])\n",
        "food['good']=fuzz.trimf(food.universe,[5,10,15])\n",
        "\n",
        "service['poor']=fuzz.trimf(service.universe,[0,0,5])\n",
        "service['average']=fuzz.trimf(service.universe,[0,5,10])\n",
        "service['good']=fuzz.trimf(service.universe,[5,10,15])\n",
        "\n",
        "tip['much']=fuzz.trimf(tip.universe,[18,22,25])\n",
        "tip['less']=fuzz.trimf(tip.universe,[10,14,18])\n",
        "tip['normal']=fuzz.trimf(tip.universe,[14,18,22])\n",
        "\n",
        "rule1=ctrl.Rule(food['poor']&service['poor'],tip['less'])\n",
        "rule2=ctrl.Rule(food['poor']&service['average'],tip['less'])\n",
        "rule3=ctrl.Rule(food['poor']&service['good'],tip['normal'])\n",
        "rule4=ctrl.Rule(food['average']&service['poor'],tip['less'])\n",
        "rule5=ctrl.Rule(food['average']&service['average'],tip['normal'])\n",
        "rule6=ctrl.Rule(food['average']&service['good'],tip['much'])\n",
        "rule7=ctrl.Rule(food['good']&service['poor'],tip['less'])\n",
        "rule8=ctrl.Rule(food['good']&service['average'],tip['normal'])\n",
        "rule9=ctrl.Rule(food['good']&service['good'],tip['much'])\n",
        "\n",
        "tipping_ctrl=ctrl.ControlSystem([rule1,rule2,rule3,rule4,rule5,rule6,rule7,rule8,rule9])\n",
        "tipping = ctrl.ControlSystemSimulation(tipping_ctrl)\n",
        "tipping.input['food']=6.2\n",
        "tipping.input['service']=3.5\n",
        "tipping.compute()\n",
        "print(tipping.output['tip'])\n",
        "tip.view(sim=tipping)\n",
        "\n",
        "food.view()\n",
        "\n",
        "service.view()\n",
        "\n",
        "tip.view()\n",
        "\n"
      ],
      "metadata": {
        "id": "YLpl2ASI2FqA"
      },
      "execution_count": null,
      "outputs": []
    },
    {
      "cell_type": "code",
      "source": [
        "import numpy as np\n",
        "import skfuzzy as fuzz\n",
        "from skfuzzy import control as ctrl\n",
        "\n",
        "time=ctrl.Antecedent(np.arange(10,120,1),'time')\n",
        "rice = ctrl.Antecedent(np.arange(100,1000,1),'rice')\n",
        "power=ctrl.Consequent(np.arange(0,101,1),'power')\n",
        "\n",
        "time['15p']=fuzz.trimf(time.universe,[10,15,20])\n",
        "time['30p']=fuzz.trimf(time.universe,[15,30,40])\n",
        "time['60p']=fuzz.trimf(time.universe,[30,60,90])\n",
        "time['90p']=fuzz.trimf(time.universe,[60,90,120])\n",
        "time['120p']=fuzz.trimf(time.universe,[90,120,140])\n",
        "\n",
        "rice['2ple']=fuzz.trimf(rice.universe,[0,200,400])\n",
        "rice['4ple']=fuzz.trimf(rice.universe,[200,400,600])\n",
        "rice['6ple']=fuzz.trimf(rice.universe,[400,600,800])\n",
        "rice['8ple']=fuzz.trimf(rice.universe,[600,800,1000])\n",
        "rice['10ple']=fuzz.trimf(rice.universe,[800,1000,2000])\n",
        "\n",
        "power['Rất ít'] = fuzz.trimf(power.universe,[0,0,20])\n",
        "power['Ít'] = fuzz.trimf(power.universe,[0,20,40])\n",
        "power['Trung bình'] = fuzz.trimf(power.universe,[40,60,80])\n",
        "power['Nhiều'] = fuzz.trimf(power.universe,[80,90,100])\n",
        "power['Rất nhiều'] = fuzz.trimf(power.universe,[90,100,100])\n",
        "\n",
        "rule1=ctrl.Rule(time['15p']&rice['2ple'],power['Rất ít'])\n",
        "rule2=ctrl.Rule(time['15p']&rice['4ple'],power['Ít'])\n",
        "rule3=ctrl.Rule(time['15p']&rice['6ple'],power['Trung bình'])\n",
        "rule4 =ctrl.Rule(time['15p']&rice['8ple'], power['Trung bình'])\n",
        "rule5=ctrl.Rule(time['15p']&rice['10ple'],power['Nhiều'])\n",
        "\n",
        "rule6=ctrl.Rule(time['30p']&rice['2ple'],power['Trung bình'])\n",
        "rule7=ctrl.Rule(time['30p']&rice['4ple'],power['Trung bình'])\n",
        "rule8=ctrl.Rule(time['30p']&rice['6ple'],power['Nhiều'])\n",
        "rule9=ctrl.Rule(time['30p']&rice['8ple'],power['Rất nhiều'])\n",
        "rule10=ctrl.Rule(time['30p']&rice['10ple'],power['Rất nhiều'])\n",
        "\n",
        "rule11=ctrl.Rule(time['60p']&rice['2ple'],power['Trung bình'])\n",
        "rule12=ctrl.Rule(time['60p']&rice['4ple'],power['Trung bình'])\n",
        "rule13=ctrl.Rule(time['60p']&rice['6ple'],power['Nhiều'])\n",
        "rule14=ctrl.Rule(time['60p']&rice['8ple'],power['Nhiều'])\n",
        "rule15=ctrl.Rule(time['60p']&rice['10ple'],power['Rất nhiều'])\n",
        "\n",
        "rule16=ctrl.Rule(time['90p']&rice['2ple'],power['Nhiều'])\n",
        "rule17=ctrl.Rule(time['90p']&rice['4ple'],power['Trung bình'])\n",
        "rule18=ctrl.Rule(time['90p']&rice['6ple'],power['Rất nhiều'])\n",
        "rule19=ctrl.Rule(time['90p']&rice['8ple'],power['Rất nhiều'])\n",
        "rule20=ctrl.Rule(time['90p']&rice['10ple'],power['Rất nhiều'])\n",
        "\n",
        "rule21=ctrl.Rule(time['120p']&rice['2ple'],power['Nhiều'])\n",
        "rule22=ctrl.Rule(time['120p']&rice['4ple'],power['Rất nhiều'])\n",
        "rule23=ctrl.Rule(time['120p']&rice['6ple'],power['Rất nhiều'])\n",
        "rule24=ctrl.Rule(time['120p']&rice['8ple'],power['Rất nhiều'])\n",
        "rule25=ctrl.Rule(time['120p']&rice['10ple'],power['Rất nhiều'])\n",
        "\n",
        "\n",
        "powering_ctrl = ctrl.ControlSystem([rule1,rule2,rule3,rule4,rule5,rule6,rule7,rule8,rule9,rule10,rule11,rule12,rule13,rule14,rule15,rule16,rule17,rule18,rule19,rule20,rule20,rule21,rule22,rule23,rule24,rule25])\n",
        "powering = ctrl.ControlSystemSimulation(powering_ctrl)\n",
        "\n",
        "powering.input['rice']=float(input(\"Nhập lượng gạo (từ 100 đến 1000 (đơn vị ml)) : \"))\n",
        "powering.input['time']=float(input(\"Nhập thời gian (từ 10 đến 120 (đơn vị phút)) : \"))\n",
        "powering.compute()\n",
        "\n",
        "print(\"Công suất là: \" ,round((powering.output['power']),1),\"W\")\n",
        "\n",
        "power.view()\n",
        "time.view()\n",
        "rice.view()\n",
        "\n",
        "\n",
        "\n"
      ],
      "metadata": {
        "id": "5TXS7Y91-zGL"
      },
      "execution_count": null,
      "outputs": []
    }
  ]
}