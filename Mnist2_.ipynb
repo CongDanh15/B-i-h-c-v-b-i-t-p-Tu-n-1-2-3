{
  "nbformat": 4,
  "nbformat_minor": 0,
  "metadata": {
    "colab": {
      "provenance": [],
      "collapsed_sections": [],
      "authorship_tag": "ABX9TyNmqreooXP7ejrywVe6lkNq",
      "include_colab_link": true
    },
    "kernelspec": {
      "name": "python3",
      "display_name": "Python 3"
    },
    "language_info": {
      "name": "python"
    }
  },
  "cells": [
    {
      "cell_type": "markdown",
      "metadata": {
        "id": "view-in-github",
        "colab_type": "text"
      },
      "source": [
        "<a href=\"https://colab.research.google.com/github/CongDanh15/BT-AI/blob/main/Mnist2_.ipynb\" target=\"_parent\"><img src=\"https://colab.research.google.com/assets/colab-badge.svg\" alt=\"Open In Colab\"/></a>"
      ]
    },
    {
      "cell_type": "code",
      "execution_count": null,
      "metadata": {
        "colab": {
          "base_uri": "https://localhost:8080/"
        },
        "id": "9V0QhswxIerU",
        "outputId": "560aff0e-32a2-4fac-d956-b9cf4859f277"
      },
      "outputs": [
        {
          "output_type": "stream",
          "name": "stdout",
          "text": [
            "Downloading data from https://storage.googleapis.com/tensorflow/tf-keras-datasets/train-labels-idx1-ubyte.gz\n",
            "29515/29515 [==============================] - 0s 0us/step\n",
            "Downloading data from https://storage.googleapis.com/tensorflow/tf-keras-datasets/train-images-idx3-ubyte.gz\n",
            "26421880/26421880 [==============================] - 0s 0us/step\n",
            "Downloading data from https://storage.googleapis.com/tensorflow/tf-keras-datasets/t10k-labels-idx1-ubyte.gz\n",
            "5148/5148 [==============================] - 0s 0us/step\n",
            "Downloading data from https://storage.googleapis.com/tensorflow/tf-keras-datasets/t10k-images-idx3-ubyte.gz\n",
            "4422102/4422102 [==============================] - 0s 0us/step\n"
          ]
        }
      ],
      "source": [
        "from keras.datasets import fashion_mnist\n",
        "(x_train,y_train),(x_test,y_test)=fashion_mnist.load_data()"
      ]
    },
    {
      "cell_type": "code",
      "source": [
        "x_train.shape"
      ],
      "metadata": {
        "id": "zK4OPq1ZIlvB"
      },
      "execution_count": null,
      "outputs": []
    },
    {
      "cell_type": "code",
      "source": [
        "y_train.shape"
      ],
      "metadata": {
        "colab": {
          "base_uri": "https://localhost:8080/"
        },
        "id": "1UaNrgrEInmk",
        "outputId": "e476c3f0-2af3-4e78-eafd-387431bbfb65"
      },
      "execution_count": null,
      "outputs": [
        {
          "output_type": "execute_result",
          "data": {
            "text/plain": [
              "(60000,)"
            ]
          },
          "metadata": {},
          "execution_count": 2
        }
      ]
    },
    {
      "cell_type": "code",
      "source": [
        "x_test.shape\n"
      ],
      "metadata": {
        "colab": {
          "base_uri": "https://localhost:8080/"
        },
        "id": "F9cglr4nIqNG",
        "outputId": "125ad485-e466-4e4b-8444-197dcd4c8dd9"
      },
      "execution_count": null,
      "outputs": [
        {
          "output_type": "execute_result",
          "data": {
            "text/plain": [
              "(10000, 28, 28)"
            ]
          },
          "metadata": {},
          "execution_count": 3
        }
      ]
    },
    {
      "cell_type": "code",
      "source": [
        "y_test.shape"
      ],
      "metadata": {
        "colab": {
          "base_uri": "https://localhost:8080/"
        },
        "id": "MCcB-fpbItld",
        "outputId": "44902c52-f70c-469c-e614-91d2d4d28503"
      },
      "execution_count": null,
      "outputs": [
        {
          "output_type": "execute_result",
          "data": {
            "text/plain": [
              "(10000,)"
            ]
          },
          "metadata": {},
          "execution_count": 4
        }
      ]
    },
    {
      "cell_type": "code",
      "source": [
        "class_names=['t-shirt/Top','trousers','Pullover','Press','Coat','Sandal','shirt','sneaker','Bag','Ankel Boat']"
      ],
      "metadata": {
        "id": "pgHrB7ffLIID"
      },
      "execution_count": null,
      "outputs": []
    },
    {
      "cell_type": "code",
      "source": [
        "import matplotlib.pyplot as plt\n",
        "plt.imshow(X_train[100])\n",
        "plt.show()\n",
        "print(class_names[y_train[100]])"
      ],
      "metadata": {
        "colab": {
          "base_uri": "https://localhost:8080/",
          "height": 283
        },
        "id": "gQIHl42sLKHD",
        "outputId": "be2225c6-beab-41c1-ccb8-8ad2b83c4a87"
      },
      "execution_count": null,
      "outputs": [
        {
          "output_type": "display_data",
          "data": {
            "text/plain": [
              "<Figure size 432x288 with 1 Axes>"
            ],
            "image/png": "[encoded data removed]"
          },
          "metadata": {
            "needs_background": "light"
          }
        },
        {
          "output_type": "stream",
          "name": "stdout",
          "text": [
            "Bag\n"
          ]
        }
      ]
    },
    {
      "cell_type": "code",
      "source": [
        "from keras.datasets import mnist\n",
        "import matplotlib.pyplot as plt\n",
        "(x_train,y_train),(x_test,y_test) = mnist.load_data()\n",
        "x_train.shape\n",
        "y_train.shape\n"
      ],
      "metadata": {
        "colab": {
          "base_uri": "https://localhost:8080/"
        },
        "id": "Y36BPP9ZLtXL",
        "outputId": "b5ec999d-14e9-43ae-c330-ebbc22621a1d"
      },
      "execution_count": null,
      "outputs": [
        {
          "output_type": "execute_result",
          "data": {
            "text/plain": [
              "(60000,)"
            ]
          },
          "metadata": {},
          "execution_count": 20
        }
      ]
    },
    {
      "cell_type": "code",
      "source": [
        "import matplotlib.pyplot as plt\n",
        "plt.imshow(x_train[5])\n",
        "plt.show\n",
        "print(y_train[5])"
      ],
      "metadata": {
        "colab": {
          "base_uri": "https://localhost:8080/",
          "height": 283
        },
        "id": "c2sPVpAkLMuz",
        "outputId": "59bf658a-2d30-4cfe-a1f5-a4e49f1c4dbb"
      },
      "execution_count": null,
      "outputs": [
        {
          "output_type": "stream",
          "name": "stdout",
          "text": [
            "2\n"
          ]
        },
        {
          "output_type": "display_data",
          "data": {
            "text/plain": [
              "<Figure size 432x288 with 1 Axes>"
            ],
            "image/png": "[encoded data removed]"
          },
          "metadata": {
            "needs_background": "light"
          }
        }
      ]
    },
    {
      "cell_type": "code",
      "source": [
        "from keras.layers.serialization import activation\n",
        "from keras import models\n",
        "\n",
        "from keras import layers\n",
        "model = models.Sequential()\n",
        "model.add(layers.Dense(512, activation= 'relu', input_shape=(28*28,)))\n",
        "model.add(layers.Dense(10, activation='softmax'))\n",
        "model.summary()\n",
        "\n",
        "x_train=x_train.reshape((60000,28*28))\n",
        "x_trains=x_train.astype('float32')/255\n",
        "x_test=x_test.reshape((10000,28*28))\n",
        "x_test=x_test.astype(('float32'))/255\n",
        "\n",
        "x_train.shape\n",
        "y_test.shape"
      ],
      "metadata": {
        "colab": {
          "base_uri": "https://localhost:8080/"
        },
        "id": "zY2SG-L_L26Y",
        "outputId": "04bab22b-c548-4035-a175-d1e11a20fab6"
      },
      "execution_count": null,
      "outputs": [
        {
          "output_type": "stream",
          "name": "stdout",
          "text": [
            "Model: \"sequential_3\"\n",
            "_________________________________________________________________\n",
            " Layer (type)                Output Shape              Param #   \n",
            "=================================================================\n",
            " dense_6 (Dense)             (None, 512)               401920    \n",
            "                                                                 \n",
            " dense_7 (Dense)             (None, 10)                5130      \n",
            "                                                                 \n",
            "=================================================================\n",
            "Total params: 407,050\n",
            "Trainable params: 407,050\n",
            "Non-trainable params: 0\n",
            "_________________________________________________________________\n"
          ]
        },
        {
          "output_type": "execute_result",
          "data": {
            "text/plain": [
              "(10000,)"
            ]
          },
          "metadata": {},
          "execution_count": 24
        }
      ]
    },
    {
      "cell_type": "code",
      "source": [
        "from keras.utils import to_categorical\n",
        "y_train = to_categorical(y_train)\n",
        "y_test = to_categorical(y_test)\n",
        "\n",
        "y_train.shape\n",
        "y_test.shape"
      ],
      "metadata": {
        "colab": {
          "base_uri": "https://localhost:8080/"
        },
        "id": "oMx_6gJGMRqD",
        "outputId": "ec16f606-f056-42a8-a438-8ec9ddaa984a"
      },
      "execution_count": null,
      "outputs": [
        {
          "output_type": "execute_result",
          "data": {
            "text/plain": [
              "(10000, 10)"
            ]
          },
          "metadata": {},
          "execution_count": 27
        }
      ]
    },
    {
      "cell_type": "code",
      "source": [
        "from keras.metrics import metrics\n",
        "model.compile(optimizer ='rmsprop',loss='categorical_crossentropy',metrics=['accuracy'])\n",
        "model.fit(x_train,y_train,epochs=100, batch_size= 128)\n"
      ],
      "metadata": {
        "colab": {
          "base_uri": "https://localhost:8080/"
        },
        "id": "9JSkvngrMV4K",
        "outputId": "1f532131-6965-4eb7-c751-3f0112e64d0b"
      },
      "execution_count": null,
      "outputs": [
        {
          "output_type": "stream",
          "name": "stdout",
          "text": [
            "Epoch 1/100\n",
            "469/469 [==============================] - 5s 10ms/step - loss: 5.2629 - accuracy: 0.9012\n",
            "Epoch 2/100\n",
            "469/469 [==============================] - 4s 9ms/step - loss: 0.6669 - accuracy: 0.9537\n",
            "Epoch 3/100\n",
            "469/469 [==============================] - 4s 9ms/step - loss: 0.4417 - accuracy: 0.9650\n",
            "Epoch 4/100\n",
            "469/469 [==============================] - 4s 9ms/step - loss: 0.3460 - accuracy: 0.9718\n",
            "Epoch 5/100\n",
            "469/469 [==============================] - 4s 9ms/step - loss: 0.2852 - accuracy: 0.9760\n",
            "Epoch 6/100\n",
            "469/469 [==============================] - 4s 9ms/step - loss: 0.2505 - accuracy: 0.9798\n",
            "Epoch 7/100\n",
            "469/469 [==============================] - 4s 9ms/step - loss: 0.2529 - accuracy: 0.9822\n",
            "Epoch 8/100\n",
            "469/469 [==============================] - 4s 9ms/step - loss: 0.2421 - accuracy: 0.9837\n",
            "Epoch 9/100\n",
            "469/469 [==============================] - 4s 9ms/step - loss: 0.2209 - accuracy: 0.9858\n",
            "Epoch 10/100\n",
            "469/469 [==============================] - 4s 9ms/step - loss: 0.2171 - accuracy: 0.9865\n",
            "Epoch 11/100\n",
            "469/469 [==============================] - 4s 9ms/step - loss: 0.1950 - accuracy: 0.9883\n",
            "Epoch 12/100\n",
            "469/469 [==============================] - 4s 9ms/step - loss: 0.1735 - accuracy: 0.9889\n",
            "Epoch 13/100\n",
            "469/469 [==============================] - 4s 9ms/step - loss: 0.1577 - accuracy: 0.9900\n",
            "Epoch 14/100\n",
            "469/469 [==============================] - 4s 9ms/step - loss: 0.1720 - accuracy: 0.9900\n",
            "Epoch 15/100\n",
            "469/469 [==============================] - 4s 10ms/step - loss: 0.1492 - accuracy: 0.9910\n",
            "Epoch 16/100\n",
            "469/469 [==============================] - 4s 9ms/step - loss: 0.1305 - accuracy: 0.9920\n",
            "Epoch 17/100\n",
            "469/469 [==============================] - 4s 9ms/step - loss: 0.1353 - accuracy: 0.9925\n",
            "Epoch 18/100\n",
            "469/469 [==============================] - 4s 10ms/step - loss: 0.1216 - accuracy: 0.9927\n",
            "Epoch 19/100\n",
            "469/469 [==============================] - 4s 9ms/step - loss: 0.1323 - accuracy: 0.9928\n",
            "Epoch 20/100\n",
            "469/469 [==============================] - 4s 9ms/step - loss: 0.1289 - accuracy: 0.9933\n",
            "Epoch 21/100\n",
            "469/469 [==============================] - 5s 11ms/step - loss: 0.1099 - accuracy: 0.9937\n",
            "Epoch 22/100\n",
            "469/469 [==============================] - 5s 10ms/step - loss: 0.0955 - accuracy: 0.9946\n",
            "Epoch 23/100\n",
            "469/469 [==============================] - 4s 9ms/step - loss: 0.0951 - accuracy: 0.9945\n",
            "Epoch 24/100\n",
            "469/469 [==============================] - 4s 10ms/step - loss: 0.0901 - accuracy: 0.9949\n",
            "Epoch 25/100\n",
            "469/469 [==============================] - 4s 10ms/step - loss: 0.1145 - accuracy: 0.9947\n",
            "Epoch 26/100\n",
            "469/469 [==============================] - 4s 9ms/step - loss: 0.0929 - accuracy: 0.9956\n",
            "Epoch 27/100\n",
            "469/469 [==============================] - 4s 9ms/step - loss: 0.0918 - accuracy: 0.9950\n",
            "Epoch 28/100\n",
            "469/469 [==============================] - 4s 10ms/step - loss: 0.0894 - accuracy: 0.9954\n",
            "Epoch 29/100\n",
            "469/469 [==============================] - 4s 9ms/step - loss: 0.0845 - accuracy: 0.9955\n",
            "Epoch 30/100\n",
            "469/469 [==============================] - 4s 9ms/step - loss: 0.0813 - accuracy: 0.9959\n",
            "Epoch 31/100\n",
            "469/469 [==============================] - 4s 9ms/step - loss: 0.0785 - accuracy: 0.9960\n",
            "Epoch 32/100\n",
            "469/469 [==============================] - 4s 9ms/step - loss: 0.0814 - accuracy: 0.9960\n",
            "Epoch 33/100\n",
            "469/469 [==============================] - 4s 9ms/step - loss: 0.0705 - accuracy: 0.9961\n",
            "Epoch 34/100\n",
            "469/469 [==============================] - 4s 9ms/step - loss: 0.0734 - accuracy: 0.9969\n",
            "Epoch 35/100\n",
            "469/469 [==============================] - 4s 9ms/step - loss: 0.0672 - accuracy: 0.9968\n",
            "Epoch 36/100\n",
            "469/469 [==============================] - 4s 9ms/step - loss: 0.0559 - accuracy: 0.9971\n",
            "Epoch 37/100\n",
            "469/469 [==============================] - 4s 9ms/step - loss: 0.0679 - accuracy: 0.9965\n",
            "Epoch 38/100\n",
            "469/469 [==============================] - 5s 10ms/step - loss: 0.0655 - accuracy: 0.9968\n",
            "Epoch 39/100\n",
            "469/469 [==============================] - 5s 10ms/step - loss: 0.0697 - accuracy: 0.9972\n",
            "Epoch 40/100\n",
            "469/469 [==============================] - 5s 10ms/step - loss: 0.0621 - accuracy: 0.9972\n",
            "Epoch 41/100\n",
            "469/469 [==============================] - 5s 10ms/step - loss: 0.0510 - accuracy: 0.9975\n",
            "Epoch 42/100\n",
            "469/469 [==============================] - 5s 12ms/step - loss: 0.0689 - accuracy: 0.9967\n",
            "Epoch 43/100\n",
            "469/469 [==============================] - 5s 12ms/step - loss: 0.0728 - accuracy: 0.9969\n",
            "Epoch 44/100\n",
            "469/469 [==============================] - 6s 12ms/step - loss: 0.0587 - accuracy: 0.9972\n",
            "Epoch 45/100\n",
            "469/469 [==============================] - 5s 12ms/step - loss: 0.0505 - accuracy: 0.9977\n",
            "Epoch 46/100\n",
            "469/469 [==============================] - 6s 12ms/step - loss: 0.0523 - accuracy: 0.9973\n",
            "Epoch 47/100\n",
            "469/469 [==============================] - 6s 12ms/step - loss: 0.0449 - accuracy: 0.9979\n",
            "Epoch 48/100\n",
            "469/469 [==============================] - 6s 12ms/step - loss: 0.0524 - accuracy: 0.9977\n",
            "Epoch 49/100\n",
            "469/469 [==============================] - 6s 12ms/step - loss: 0.0697 - accuracy: 0.9971\n",
            "Epoch 50/100\n",
            "469/469 [==============================] - 6s 12ms/step - loss: 0.0507 - accuracy: 0.9976\n",
            "Epoch 51/100\n",
            "469/469 [==============================] - 5s 11ms/step - loss: 0.0439 - accuracy: 0.9979\n",
            "Epoch 52/100\n",
            "469/469 [==============================] - 6s 12ms/step - loss: 0.0608 - accuracy: 0.9976\n",
            "Epoch 53/100\n",
            "469/469 [==============================] - 5s 11ms/step - loss: 0.0460 - accuracy: 0.9979\n",
            "Epoch 54/100\n",
            "469/469 [==============================] - 5s 12ms/step - loss: 0.0615 - accuracy: 0.9972\n",
            "Epoch 55/100\n",
            "469/469 [==============================] - 6s 12ms/step - loss: 0.0345 - accuracy: 0.9981\n",
            "Epoch 56/100\n",
            "469/469 [==============================] - 6s 12ms/step - loss: 0.0377 - accuracy: 0.9981\n",
            "Epoch 57/100\n",
            "469/469 [==============================] - 5s 12ms/step - loss: 0.0461 - accuracy: 0.9978\n",
            "Epoch 58/100\n",
            "469/469 [==============================] - 6s 12ms/step - loss: 0.0471 - accuracy: 0.9980\n",
            "Epoch 59/100\n",
            "469/469 [==============================] - 5s 11ms/step - loss: 0.0263 - accuracy: 0.9985\n",
            "Epoch 60/100\n",
            "469/469 [==============================] - 5s 11ms/step - loss: 0.0443 - accuracy: 0.9982\n",
            "Epoch 61/100\n",
            "469/469 [==============================] - 5s 12ms/step - loss: 0.0426 - accuracy: 0.9984\n",
            "Epoch 62/100\n",
            "469/469 [==============================] - 6s 12ms/step - loss: 0.0424 - accuracy: 0.9982\n",
            "Epoch 63/100\n",
            "469/469 [==============================] - 7s 16ms/step - loss: 0.0332 - accuracy: 0.9983\n",
            "Epoch 64/100\n",
            "469/469 [==============================] - 6s 12ms/step - loss: 0.0339 - accuracy: 0.9983\n",
            "Epoch 65/100\n",
            "469/469 [==============================] - 6s 14ms/step - loss: 0.0321 - accuracy: 0.9985\n",
            "Epoch 66/100\n",
            "469/469 [==============================] - 7s 14ms/step - loss: 0.0234 - accuracy: 0.9987\n",
            "Epoch 67/100\n",
            "469/469 [==============================] - 6s 12ms/step - loss: 0.0303 - accuracy: 0.9985\n",
            "Epoch 68/100\n",
            "469/469 [==============================] - 5s 10ms/step - loss: 0.0420 - accuracy: 0.9983\n",
            "Epoch 69/100\n",
            "469/469 [==============================] - 6s 13ms/step - loss: 0.0311 - accuracy: 0.9986\n",
            "Epoch 70/100\n",
            "469/469 [==============================] - 5s 10ms/step - loss: 0.0439 - accuracy: 0.9980\n",
            "Epoch 71/100\n",
            "469/469 [==============================] - 6s 12ms/step - loss: 0.0461 - accuracy: 0.9981\n",
            "Epoch 72/100\n",
            "469/469 [==============================] - 6s 13ms/step - loss: 0.0368 - accuracy: 0.9983\n",
            "Epoch 73/100\n",
            "469/469 [==============================] - 7s 16ms/step - loss: 0.0335 - accuracy: 0.9987\n",
            "Epoch 74/100\n",
            "469/469 [==============================] - 5s 12ms/step - loss: 0.0298 - accuracy: 0.9987\n",
            "Epoch 75/100\n",
            "469/469 [==============================] - 5s 10ms/step - loss: 0.0327 - accuracy: 0.9984\n",
            "Epoch 76/100\n",
            "469/469 [==============================] - 5s 10ms/step - loss: 0.0214 - accuracy: 0.9990\n",
            "Epoch 77/100\n",
            "469/469 [==============================] - 5s 10ms/step - loss: 0.0341 - accuracy: 0.9987\n",
            "Epoch 78/100\n",
            "469/469 [==============================] - 5s 10ms/step - loss: 0.0244 - accuracy: 0.9990\n",
            "Epoch 79/100\n",
            "469/469 [==============================] - 6s 13ms/step - loss: 0.0295 - accuracy: 0.9987\n",
            "Epoch 80/100\n",
            "469/469 [==============================] - 6s 12ms/step - loss: 0.0280 - accuracy: 0.9987\n",
            "Epoch 81/100\n",
            "469/469 [==============================] - 6s 12ms/step - loss: 0.0370 - accuracy: 0.9984\n",
            "Epoch 82/100\n",
            "469/469 [==============================] - 6s 12ms/step - loss: 0.0274 - accuracy: 0.9987\n",
            "Epoch 83/100\n",
            "469/469 [==============================] - 5s 12ms/step - loss: 0.0211 - accuracy: 0.9990\n",
            "Epoch 84/100\n",
            "469/469 [==============================] - 5s 10ms/step - loss: 0.0290 - accuracy: 0.9987\n",
            "Epoch 85/100\n",
            "469/469 [==============================] - 5s 10ms/step - loss: 0.0290 - accuracy: 0.9986\n",
            "Epoch 86/100\n",
            "469/469 [==============================] - 5s 10ms/step - loss: 0.0289 - accuracy: 0.9986\n",
            "Epoch 87/100\n",
            "469/469 [==============================] - 5s 10ms/step - loss: 0.0171 - accuracy: 0.9992\n",
            "Epoch 88/100\n",
            "469/469 [==============================] - 8s 18ms/step - loss: 0.0118 - accuracy: 0.9993\n",
            "Epoch 89/100\n",
            "469/469 [==============================] - 5s 10ms/step - loss: 0.0186 - accuracy: 0.9991\n",
            "Epoch 90/100\n",
            "469/469 [==============================] - 5s 10ms/step - loss: 0.0179 - accuracy: 0.9991\n",
            "Epoch 91/100\n",
            "469/469 [==============================] - 6s 12ms/step - loss: 0.0242 - accuracy: 0.9991\n",
            "Epoch 92/100\n",
            "469/469 [==============================] - 7s 15ms/step - loss: 0.0221 - accuracy: 0.9990\n",
            "Epoch 93/100\n",
            "469/469 [==============================] - 5s 10ms/step - loss: 0.0179 - accuracy: 0.9991\n",
            "Epoch 94/100\n",
            "469/469 [==============================] - 5s 10ms/step - loss: 0.0212 - accuracy: 0.9990\n",
            "Epoch 95/100\n",
            "469/469 [==============================] - 4s 10ms/step - loss: 0.0133 - accuracy: 0.9992\n",
            "Epoch 96/100\n",
            "469/469 [==============================] - 5s 10ms/step - loss: 0.0177 - accuracy: 0.9991\n",
            "Epoch 97/100\n",
            "469/469 [==============================] - 5s 10ms/step - loss: 0.0211 - accuracy: 0.9990\n",
            "Epoch 98/100\n",
            "469/469 [==============================] - 5s 10ms/step - loss: 0.0225 - accuracy: 0.9991\n",
            "Epoch 99/100\n",
            "469/469 [==============================] - 5s 10ms/step - loss: 0.0253 - accuracy: 0.9991\n",
            "Epoch 100/100\n",
            "469/469 [==============================] - 5s 10ms/step - loss: 0.0277 - accuracy: 0.9987\n"
          ]
        },
        {
          "output_type": "execute_result",
          "data": {
            "text/plain": [
              "<keras.callbacks.History at 0x7f9a1d46c290>"
            ]
          },
          "metadata": {},
          "execution_count": 28
        }
      ]
    },
    {
      "cell_type": "code",
      "source": [
        "from tensorflow.python.ops.gen_array_ops import reshape\n",
        "from keras.utils import load_img, img_to_array\n",
        "import numpy as np\n",
        "\n",
        "img = load_img('abc.png', target_size=(28,28))\n",
        "plt.imshow(img)\n",
        "img = img_to_array(img)\n",
        "img = img.reshape(1,28,28,3)\n",
        "img = img.astype('float32')\n",
        "img = img/255"
      ],
      "metadata": {
        "colab": {
          "base_uri": "https://localhost:8080/",
          "height": 265
        },
        "id": "ayW4hFEFPGys",
        "outputId": "d81583c6-d290-4362-8975-2e939d427c3d"
      },
      "execution_count": null,
      "outputs": [
        {
          "output_type": "display_data",
          "data": {
            "text/plain": [
              "<Figure size 432x288 with 1 Axes>"
            ],
            "image/png": "[encoded data removed]"
          },
          "metadata": {
            "needs_background": "light"
          }
        }
      ]
    }
  ]
}