{
  "nbformat": 4,
  "nbformat_minor": 0,
  "metadata": {
    "colab": {
      "provenance": [],
      "collapsed_sections": [],
      "authorship_tag": "ABX9TyN/b7dSQMFDl39xxKVIK6aq",
      "include_colab_link": true
    },
    "kernelspec": {
      "name": "python3",
      "display_name": "Python 3"
    },
    "language_info": {
      "name": "python"
    },
    "accelerator": "GPU",
    "gpuClass": "standard"
  },
  "cells": [
    {
      "cell_type": "markdown",
      "metadata": {
        "id": "view-in-github",
        "colab_type": "text"
      },
      "source": [
        "<a href=\"https://colab.research.google.com/github/CongDanh15/BT-AI/blob/main/Food.ipynb\" target=\"_parent\"><img src=\"https://colab.research.google.com/assets/colab-badge.svg\" alt=\"Open In Colab\"/></a>"
      ]
    },
    {
      "cell_type": "code",
      "execution_count": 1,
      "metadata": {
        "id": "PwAxf-ZLCU1m"
      },
      "outputs": [],
      "source": [
        "# Khai báo và sử dụng các thư viện sau\n",
        "from sklearn.model_selection import train_test_split\n",
        "import matplotlib.pyplot as plt\n",
        "import os\n",
        "import numpy as np\n",
        "import tensorflow as tf\n",
        "from keras.utils import np_utils\n",
        "from keras.models import Sequential\n",
        "from keras.layers import Dense, Activation, Dropout, Conv2D, MaxPooling2D, Flatten\n",
        "from tensorflow.keras.optimizers import SGD, RMSprop\n",
        "from keras.callbacks import EarlyStopping, ModelCheckpoint\n",
        "from sklearn.utils import validation \n",
        "from sklearn import preprocessing\n",
        "from tensorflow.keras.utils import to_categorical\n",
        "from tensorflow.keras.models import load_model\n",
        "from tensorflow.keras.utils import load_img, img_to_array\n",
        "from tensorflow.keras.preprocessing.image import ImageDataGenerator"
      ]
    },
    {
      "cell_type": "code",
      "source": [
        "from google.colab import drive\n",
        "drive.mount('/content/gdrive')"
      ],
      "metadata": {
        "colab": {
          "base_uri": "https://localhost:8080/"
        },
        "id": "WUGSkG8cQQLs",
        "outputId": "e0f5db24-aa6a-4d22-b778-7afa32a82c37"
      },
      "execution_count": 2,
      "outputs": [
        {
          "output_type": "stream",
          "name": "stdout",
          "text": [
            "Mounted at /content/gdrive\n"
          ]
        }
      ]
    },
    {
      "cell_type": "code",
      "source": [
        "%cd /content/gdrive/MyDrive/BT AI/Do an /Food"
      ],
      "metadata": {
        "colab": {
          "base_uri": "https://localhost:8080/"
        },
        "id": "Qvt6RxgnD5hV",
        "outputId": "ac86208e-3c3c-4c1d-bfdc-a1796d9ef4c2"
      },
      "execution_count": 3,
      "outputs": [
        {
          "output_type": "stream",
          "name": "stdout",
          "text": [
            "/content/gdrive/MyDrive/BT AI/Do an /Food\n"
          ]
        }
      ]
    },
    {
      "cell_type": "code",
      "source": [
        "# Tạo ra class ImageDataGenerator để chỉnh sửa ảnh \n",
        "train_datagen=ImageDataGenerator(rescale=1./255, shear_range=0.2, zoom_range=0.2, horizontal_flip=True)"
      ],
      "metadata": {
        "id": "pY7-AENrD6bC"
      },
      "execution_count": 4,
      "outputs": []
    },
    {
      "cell_type": "code",
      "source": [
        "# Tạo bộ dữ liệu training set\n",
        "training_set=train_datagen.flow_from_directory('/content/gdrive/MyDrive/BT AI/Do an /Food/Train',target_size=(150,150), batch_size=32, class_mode='categorical')"
      ],
      "metadata": {
        "colab": {
          "base_uri": "https://localhost:8080/"
        },
        "id": "hTqAsCP4D-Kv",
        "outputId": "33b8cc69-1ce4-47f0-c1cc-a331d5236e07"
      },
      "execution_count": 5,
      "outputs": [
        {
          "output_type": "stream",
          "name": "stdout",
          "text": [
            "Found 3008 images belonging to 10 classes.\n"
          ]
        }
      ]
    },
    {
      "cell_type": "code",
      "source": [
        "# Tạo bộ dữ liệu validation\n",
        "validation=train_datagen.flow_from_directory('/content/gdrive/MyDrive/BT AI/Do an /Food/Validation',target_size=(150,150), batch_size=32, class_mode='categorical')"
      ],
      "metadata": {
        "colab": {
          "base_uri": "https://localhost:8080/"
        },
        "id": "TcAY99AZEC9l",
        "outputId": "cc8be10d-e749-429d-b24c-b4680ffbff74"
      },
      "execution_count": 6,
      "outputs": [
        {
          "output_type": "stream",
          "name": "stdout",
          "text": [
            "Found 360 images belonging to 10 classes.\n"
          ]
        }
      ]
    },
    {
      "cell_type": "code",
      "source": [
        "training_set.class_indices"
      ],
      "metadata": {
        "colab": {
          "base_uri": "https://localhost:8080/"
        },
        "id": "X7WZy7LhEMQs",
        "outputId": "c896b9c3-9c87-4cbd-958c-0c370b2552d6"
      },
      "execution_count": 7,
      "outputs": [
        {
          "output_type": "execute_result",
          "data": {
            "text/plain": [
              "{'Banh cuon': 0,\n",
              " 'Banh mi': 1,\n",
              " 'Banh pia': 2,\n",
              " 'Banh tet': 3,\n",
              " 'Banh xeo': 4,\n",
              " 'Bun dau mam tom': 5,\n",
              " 'Ca kho to': 6,\n",
              " 'Com tam': 7,\n",
              " 'Nem': 8,\n",
              " 'Pho': 9}"
            ]
          },
          "metadata": {},
          "execution_count": 7
        }
      ]
    },
    {
      "cell_type": "code",
      "source": [
        "# Các nhãn có trong bộ dữ liệu validation\n",
        "validation.class_indices"
      ],
      "metadata": {
        "colab": {
          "base_uri": "https://localhost:8080/"
        },
        "id": "GrsXbOHyENLC",
        "outputId": "0fde6153-31f0-41ce-9bc9-c0f8882a7225"
      },
      "execution_count": 8,
      "outputs": [
        {
          "output_type": "execute_result",
          "data": {
            "text/plain": [
              "{'Banh cuon': 0,\n",
              " 'Banh mi': 1,\n",
              " 'Banh pia': 2,\n",
              " 'Banh tet': 3,\n",
              " 'Banh xeo': 4,\n",
              " 'Bun dau mam tom': 5,\n",
              " 'Ca kho to': 6,\n",
              " 'Com tam': 7,\n",
              " 'Nem': 8,\n",
              " 'Pho': 9}"
            ]
          },
          "metadata": {},
          "execution_count": 8
        }
      ]
    },
    {
      "cell_type": "code",
      "source": [
        "# Tạo ra mạng CNN để train mô hình\n",
        "model=Sequential()\n",
        "# Tích chập 32 lần với mỗi lần là 3 hàng 3 cột\n",
        "model.add(Conv2D(32,(3,3), activation='relu', kernel_initializer='he_uniform', padding='same',input_shape=(150,150,3))) \n",
        "model.add(Conv2D(32,(3,3), activation='relu', kernel_initializer='he_uniform', padding='same'))\n",
        "# Lấy phần tử lớn nhất ở trong 2 hàng và 2 cột\n",
        "model.add(MaxPooling2D(2,2))\n",
        "# Tích chập 64 lần với mỗi lần là 3 hàng 3 cột\n",
        "model.add(Conv2D(64,(3,3), activation='relu', kernel_initializer='he_uniform', padding='same')) \n",
        "model.add(Conv2D(64,(3,3), activation='relu', kernel_initializer='he_uniform', padding='same'))\n",
        "# Lấy phần tử lớn nhất ở trong 2 hàng và 2 cột\n",
        "model.add(MaxPooling2D(2,2))\n",
        "# Tích chập 128 lần với mỗi lần là 3 hàng 3 cột\n",
        "model.add(Conv2D(128,(3,3), activation='relu', kernel_initializer='he_uniform', padding='same')) \n",
        "model.add(Conv2D(128,(3,3), activation='relu', kernel_initializer='he_uniform', padding='same'))\n",
        "# Lấy phần tử lớn nhất ở trong 2 hàng và 2 cột\n",
        "model.add(MaxPooling2D(2,2))\n",
        "# Duỗi thẳng dữ liệu \n",
        "model.add(Flatten())\n",
        "# Tạo lớp ẩn thứ nhất với 128 tín hiệu ra\n",
        "model.add(Dense(128,activation='relu',kernel_initializer='he_uniform'))\n",
        "model.add(Dropout(0.2))\n",
        "# Tạo lớp ẩn thứ hai với 3 tín hiệu ra\n",
        "model.add(Dense(10,activation='softmax'))\n",
        "model.summary()"
      ],
      "metadata": {
        "colab": {
          "base_uri": "https://localhost:8080/"
        },
        "id": "5V3-AY_7EPM-",
        "outputId": "47e36a6f-5fb5-4539-9ae5-22c48c73941b"
      },
      "execution_count": 9,
      "outputs": [
        {
          "output_type": "stream",
          "name": "stdout",
          "text": [
            "Model: \"sequential\"\n",
            "_________________________________________________________________\n",
            " Layer (type)                Output Shape              Param #   \n",
            "=================================================================\n",
            " conv2d (Conv2D)             (None, 150, 150, 32)      896       \n",
            "                                                                 \n",
            " conv2d_1 (Conv2D)           (None, 150, 150, 32)      9248      \n",
            "                                                                 \n",
            " max_pooling2d (MaxPooling2D  (None, 75, 75, 32)       0         \n",
            " )                                                               \n",
            "                                                                 \n",
            " conv2d_2 (Conv2D)           (None, 75, 75, 64)        18496     \n",
            "                                                                 \n",
            " conv2d_3 (Conv2D)           (None, 75, 75, 64)        36928     \n",
            "                                                                 \n",
            " max_pooling2d_1 (MaxPooling  (None, 37, 37, 64)       0         \n",
            " 2D)                                                             \n",
            "                                                                 \n",
            " conv2d_4 (Conv2D)           (None, 37, 37, 128)       73856     \n",
            "                                                                 \n",
            " conv2d_5 (Conv2D)           (None, 37, 37, 128)       147584    \n",
            "                                                                 \n",
            " max_pooling2d_2 (MaxPooling  (None, 18, 18, 128)      0         \n",
            " 2D)                                                             \n",
            "                                                                 \n",
            " flatten (Flatten)           (None, 41472)             0         \n",
            "                                                                 \n",
            " dense (Dense)               (None, 128)               5308544   \n",
            "                                                                 \n",
            " dropout (Dropout)           (None, 128)               0         \n",
            "                                                                 \n",
            " dense_1 (Dense)             (None, 10)                1290      \n",
            "                                                                 \n",
            "=================================================================\n",
            "Total params: 5,596,842\n",
            "Trainable params: 5,596,842\n",
            "Non-trainable params: 0\n",
            "_________________________________________________________________\n"
          ]
        }
      ]
    },
    {
      "cell_type": "code",
      "source": [
        "# Biên dịch \n",
        "model.compile(optimizer='adam',loss='categorical_crossentropy',metrics=['accuracy'])\n",
        "# Gán biến lại để vẽ đồ thị, với 500 lần học (epochs), mỗi lần học thì chỉ học␣128 dữ liệu (batch_size), khi sai số không thay đổi trong 20 lần học thì sẽ␣ dừng học \n",
        "history=model.fit(training_set,epochs=50,batch_size=128,verbose=1, validation_data=validation, callbacks=[EarlyStopping(monitor='val_loss', patience=30)])"
      ],
      "metadata": {
        "colab": {
          "base_uri": "https://localhost:8080/"
        },
        "id": "Aq6-u9FOETLK",
        "outputId": "2f11a5f8-c957-4d37-9957-f7442cb4f298"
      },
      "execution_count": 10,
      "outputs": [
        {
          "output_type": "stream",
          "name": "stdout",
          "text": [
            "Epoch 1/50\n",
            "94/94 [==============================] - 851s 9s/step - loss: 2.2955 - accuracy: 0.1925 - val_loss: 1.9620 - val_accuracy: 0.2750\n",
            "Epoch 2/50\n",
            "94/94 [==============================] - 68s 722ms/step - loss: 1.9474 - accuracy: 0.2902 - val_loss: 1.7757 - val_accuracy: 0.4111\n",
            "Epoch 3/50\n",
            "94/94 [==============================] - 71s 753ms/step - loss: 1.7422 - accuracy: 0.3933 - val_loss: 1.5786 - val_accuracy: 0.4500\n",
            "Epoch 4/50\n",
            "94/94 [==============================] - 71s 755ms/step - loss: 1.5973 - accuracy: 0.4408 - val_loss: 1.4079 - val_accuracy: 0.5139\n",
            "Epoch 5/50\n",
            "94/94 [==============================] - 70s 744ms/step - loss: 1.3689 - accuracy: 0.5392 - val_loss: 1.2120 - val_accuracy: 0.5861\n",
            "Epoch 6/50\n",
            "94/94 [==============================] - 68s 719ms/step - loss: 1.2251 - accuracy: 0.5838 - val_loss: 1.1721 - val_accuracy: 0.6139\n",
            "Epoch 7/50\n",
            "94/94 [==============================] - 67s 712ms/step - loss: 1.1793 - accuracy: 0.6027 - val_loss: 1.1295 - val_accuracy: 0.6083\n",
            "Epoch 8/50\n",
            "94/94 [==============================] - 67s 712ms/step - loss: 1.0543 - accuracy: 0.6446 - val_loss: 1.0441 - val_accuracy: 0.6639\n",
            "Epoch 9/50\n",
            "94/94 [==============================] - 67s 708ms/step - loss: 0.9392 - accuracy: 0.6805 - val_loss: 1.0464 - val_accuracy: 0.6528\n",
            "Epoch 10/50\n",
            "94/94 [==============================] - 67s 709ms/step - loss: 0.8759 - accuracy: 0.7038 - val_loss: 1.0955 - val_accuracy: 0.6444\n",
            "Epoch 11/50\n",
            "94/94 [==============================] - 66s 698ms/step - loss: 0.7985 - accuracy: 0.7384 - val_loss: 0.8731 - val_accuracy: 0.7167\n",
            "Epoch 12/50\n",
            "94/94 [==============================] - 67s 715ms/step - loss: 0.7122 - accuracy: 0.7610 - val_loss: 0.8825 - val_accuracy: 0.6750\n",
            "Epoch 13/50\n",
            "94/94 [==============================] - 66s 704ms/step - loss: 0.6440 - accuracy: 0.7783 - val_loss: 0.8682 - val_accuracy: 0.7194\n",
            "Epoch 14/50\n",
            "94/94 [==============================] - 66s 701ms/step - loss: 0.6242 - accuracy: 0.7886 - val_loss: 0.9236 - val_accuracy: 0.7083\n",
            "Epoch 15/50\n",
            "94/94 [==============================] - 66s 702ms/step - loss: 0.5614 - accuracy: 0.8142 - val_loss: 1.0060 - val_accuracy: 0.7000\n",
            "Epoch 16/50\n",
            "94/94 [==============================] - 65s 697ms/step - loss: 0.5299 - accuracy: 0.8218 - val_loss: 0.9722 - val_accuracy: 0.7139\n",
            "Epoch 17/50\n",
            "94/94 [==============================] - 67s 711ms/step - loss: 0.4830 - accuracy: 0.8464 - val_loss: 0.9434 - val_accuracy: 0.7028\n",
            "Epoch 18/50\n",
            "94/94 [==============================] - 67s 711ms/step - loss: 0.4181 - accuracy: 0.8590 - val_loss: 0.8379 - val_accuracy: 0.7083\n",
            "Epoch 19/50\n",
            "94/94 [==============================] - 67s 714ms/step - loss: 0.3630 - accuracy: 0.8787 - val_loss: 1.1920 - val_accuracy: 0.6917\n",
            "Epoch 20/50\n",
            "94/94 [==============================] - 67s 709ms/step - loss: 0.3662 - accuracy: 0.8843 - val_loss: 0.9147 - val_accuracy: 0.7250\n",
            "Epoch 21/50\n",
            "94/94 [==============================] - 67s 717ms/step - loss: 0.3573 - accuracy: 0.8890 - val_loss: 0.9680 - val_accuracy: 0.7139\n",
            "Epoch 22/50\n",
            "94/94 [==============================] - 67s 718ms/step - loss: 0.3152 - accuracy: 0.8936 - val_loss: 0.8334 - val_accuracy: 0.7222\n",
            "Epoch 23/50\n",
            "94/94 [==============================] - 68s 723ms/step - loss: 0.2584 - accuracy: 0.9142 - val_loss: 1.0351 - val_accuracy: 0.7472\n",
            "Epoch 24/50\n",
            "94/94 [==============================] - 66s 703ms/step - loss: 0.2647 - accuracy: 0.9116 - val_loss: 1.0423 - val_accuracy: 0.7139\n",
            "Epoch 25/50\n",
            "94/94 [==============================] - 66s 703ms/step - loss: 0.2803 - accuracy: 0.9096 - val_loss: 0.8760 - val_accuracy: 0.7361\n",
            "Epoch 26/50\n",
            "94/94 [==============================] - 67s 710ms/step - loss: 0.2527 - accuracy: 0.9202 - val_loss: 0.9871 - val_accuracy: 0.7306\n",
            "Epoch 27/50\n",
            "94/94 [==============================] - 66s 700ms/step - loss: 0.2231 - accuracy: 0.9295 - val_loss: 1.0730 - val_accuracy: 0.7444\n",
            "Epoch 28/50\n",
            "94/94 [==============================] - 66s 702ms/step - loss: 0.2364 - accuracy: 0.9189 - val_loss: 1.2603 - val_accuracy: 0.7139\n",
            "Epoch 29/50\n",
            "94/94 [==============================] - 65s 696ms/step - loss: 0.2094 - accuracy: 0.9322 - val_loss: 0.9997 - val_accuracy: 0.7417\n",
            "Epoch 30/50\n",
            "94/94 [==============================] - 65s 695ms/step - loss: 0.1976 - accuracy: 0.9388 - val_loss: 1.1115 - val_accuracy: 0.7417\n",
            "Epoch 31/50\n",
            "94/94 [==============================] - 66s 702ms/step - loss: 0.2131 - accuracy: 0.9282 - val_loss: 1.1760 - val_accuracy: 0.7250\n",
            "Epoch 32/50\n",
            "94/94 [==============================] - 65s 694ms/step - loss: 0.1979 - accuracy: 0.9352 - val_loss: 1.2291 - val_accuracy: 0.7194\n",
            "Epoch 33/50\n",
            "94/94 [==============================] - 65s 695ms/step - loss: 0.1842 - accuracy: 0.9392 - val_loss: 1.0365 - val_accuracy: 0.7611\n",
            "Epoch 34/50\n",
            "94/94 [==============================] - 66s 698ms/step - loss: 0.1994 - accuracy: 0.9365 - val_loss: 1.2043 - val_accuracy: 0.7028\n",
            "Epoch 35/50\n",
            "94/94 [==============================] - 66s 698ms/step - loss: 0.1858 - accuracy: 0.9355 - val_loss: 1.0979 - val_accuracy: 0.7194\n",
            "Epoch 36/50\n",
            "94/94 [==============================] - 65s 693ms/step - loss: 0.1801 - accuracy: 0.9448 - val_loss: 1.1748 - val_accuracy: 0.6917\n",
            "Epoch 37/50\n",
            "94/94 [==============================] - 65s 689ms/step - loss: 0.1681 - accuracy: 0.9458 - val_loss: 1.1468 - val_accuracy: 0.7444\n",
            "Epoch 38/50\n",
            "94/94 [==============================] - 65s 689ms/step - loss: 0.1902 - accuracy: 0.9382 - val_loss: 0.9162 - val_accuracy: 0.7667\n",
            "Epoch 39/50\n",
            "94/94 [==============================] - 65s 691ms/step - loss: 0.1470 - accuracy: 0.9518 - val_loss: 1.0577 - val_accuracy: 0.7306\n",
            "Epoch 40/50\n",
            "94/94 [==============================] - 65s 694ms/step - loss: 0.1642 - accuracy: 0.9498 - val_loss: 1.0270 - val_accuracy: 0.7250\n",
            "Epoch 41/50\n",
            "94/94 [==============================] - 65s 689ms/step - loss: 0.1702 - accuracy: 0.9485 - val_loss: 1.0919 - val_accuracy: 0.7528\n",
            "Epoch 42/50\n",
            "94/94 [==============================] - 65s 690ms/step - loss: 0.1475 - accuracy: 0.9525 - val_loss: 1.2359 - val_accuracy: 0.7306\n",
            "Epoch 43/50\n",
            "94/94 [==============================] - 65s 688ms/step - loss: 0.1684 - accuracy: 0.9441 - val_loss: 0.9572 - val_accuracy: 0.7500\n",
            "Epoch 44/50\n",
            "94/94 [==============================] - 65s 688ms/step - loss: 0.1459 - accuracy: 0.9538 - val_loss: 1.2352 - val_accuracy: 0.7222\n",
            "Epoch 45/50\n",
            "94/94 [==============================] - 65s 692ms/step - loss: 0.1211 - accuracy: 0.9638 - val_loss: 1.1356 - val_accuracy: 0.7250\n",
            "Epoch 46/50\n",
            "94/94 [==============================] - 65s 688ms/step - loss: 0.1237 - accuracy: 0.9588 - val_loss: 1.1962 - val_accuracy: 0.7417\n",
            "Epoch 47/50\n",
            "94/94 [==============================] - 65s 687ms/step - loss: 0.1118 - accuracy: 0.9651 - val_loss: 1.1096 - val_accuracy: 0.7583\n",
            "Epoch 48/50\n",
            "94/94 [==============================] - 65s 688ms/step - loss: 0.1441 - accuracy: 0.9508 - val_loss: 1.1008 - val_accuracy: 0.7611\n",
            "Epoch 49/50\n",
            "94/94 [==============================] - 65s 688ms/step - loss: 0.1154 - accuracy: 0.9644 - val_loss: 1.1036 - val_accuracy: 0.7583\n",
            "Epoch 50/50\n",
            "94/94 [==============================] - 65s 688ms/step - loss: 0.1153 - accuracy: 0.9631 - val_loss: 1.2418 - val_accuracy: 0.7167\n"
          ]
        }
      ]
    },
    {
      "cell_type": "code",
      "source": [
        "# Đánh giá độ chính xác của mô hình \n",
        "Score=model.evaluate(training_set,verbose=0)\n",
        "print('Train Loss', Score[0])\n",
        "print('Train Accuracy', Score[1])"
      ],
      "metadata": {
        "colab": {
          "base_uri": "https://localhost:8080/"
        },
        "id": "g6NQHGo9EcXN",
        "outputId": "3184a21a-e19a-4b75-9bd5-afab678a87a9"
      },
      "execution_count": 11,
      "outputs": [
        {
          "output_type": "stream",
          "name": "stdout",
          "text": [
            "Train Loss 0.03100079484283924\n",
            "Train Accuracy 0.9920212626457214\n"
          ]
        }
      ]
    },
    {
      "cell_type": "code",
      "source": [
        "# Lưu lại\n",
        "model.save(\"Food.h5\")"
      ],
      "metadata": {
        "id": "1cQ_h0cAEdRM"
      },
      "execution_count": 15,
      "outputs": []
    },
    {
      "cell_type": "code",
      "source": [
        "# Tải mô hình \n",
        "model_CNN=load_model('Food.h5')"
      ],
      "metadata": {
        "id": "WKv1ZJFjEjuQ"
      },
      "execution_count": 16,
      "outputs": []
    },
    {
      "cell_type": "code",
      "source": [
        "test=\"/content/gdrive/MyDrive/BT AI/Do an /Food\"\n",
        "\n",
        "for i in os.listdir(test):\n",
        "  img=load_img(test+'/'+i,target_size=(150,150))\n",
        "  plt.imshow(img)\n",
        "  img=img_to_array(img)\n",
        "  img=img.astype('float32')\n",
        "  img=img/255\n",
        "  img=np.expand_dims(img,axis=0)\n",
        "  result=model_CNN.predict(img)\n",
        "  if round(result[0][0])==1:\n",
        "    prediction='BANH CUON'\n",
        "  if round(result[0][1])==1:\n",
        "    prediction='BANH MI'\n",
        "  if round(result[0][2])==1:\n",
        "    prediction='BANH PIA'\n",
        "  if round(result[0][3])==1:\n",
        "    prediction='BANH TET'\n",
        "  if round(result[0][4])==1:\n",
        "    prediction='BANH XEO'\n",
        "  if round(result[0][5])==1:\n",
        "    prediction='BUN DAU MAM TOM'\n",
        "  if round(result[0][6])==1:\n",
        "    prediction='CA KHO TO'\n",
        "  if round(result[0][7])==1:\n",
        "    prediction='COM TAM'\n",
        "  if round(result[0][8])==1:\n",
        "    prediction='NEM'\n",
        "  if round(result[0][9])==1:\n",
        "    prediction='PHO'\n",
        "  print(prediction)\n",
        "  plt.show()"
      ],
      "metadata": {
        "colab": {
          "base_uri": "https://localhost:8080/",
          "height": 246
        },
        "id": "nFeQi8_yEqQ6",
        "outputId": "9be5c8ce-a212-4546-90ae-96068b8d3d32"
      },
      "execution_count": 14,
      "outputs": [
        {
          "output_type": "error",
          "ename": "FileNotFoundError",
          "evalue": "ignored",
          "traceback": [
            "\u001b[0;31m---------------------------------------------------------------------------\u001b[0m",
            "\u001b[0;31mFileNotFoundError\u001b[0m                         Traceback (most recent call last)",
            "\u001b[0;32m<ipython-input-14-2e8ae8cbcd47>\u001b[0m in \u001b[0;36m<module>\u001b[0;34m\u001b[0m\n\u001b[1;32m      1\u001b[0m \u001b[0mtest\u001b[0m\u001b[0;34m=\u001b[0m\u001b[0;34m\"/content/drive/MyDrive/Colab Notebooks/BTVN/Food/Test/Test1\"\u001b[0m\u001b[0;34m\u001b[0m\u001b[0;34m\u001b[0m\u001b[0m\n\u001b[1;32m      2\u001b[0m \u001b[0;34m\u001b[0m\u001b[0m\n\u001b[0;32m----> 3\u001b[0;31m \u001b[0;32mfor\u001b[0m \u001b[0mi\u001b[0m \u001b[0;32min\u001b[0m \u001b[0mos\u001b[0m\u001b[0;34m.\u001b[0m\u001b[0mlistdir\u001b[0m\u001b[0;34m(\u001b[0m\u001b[0mtest\u001b[0m\u001b[0;34m)\u001b[0m\u001b[0;34m:\u001b[0m\u001b[0;34m\u001b[0m\u001b[0;34m\u001b[0m\u001b[0m\n\u001b[0m\u001b[1;32m      4\u001b[0m   \u001b[0mimg\u001b[0m\u001b[0;34m=\u001b[0m\u001b[0mload_img\u001b[0m\u001b[0;34m(\u001b[0m\u001b[0mtest\u001b[0m\u001b[0;34m+\u001b[0m\u001b[0;34m'/'\u001b[0m\u001b[0;34m+\u001b[0m\u001b[0mi\u001b[0m\u001b[0;34m,\u001b[0m\u001b[0mtarget_size\u001b[0m\u001b[0;34m=\u001b[0m\u001b[0;34m(\u001b[0m\u001b[0;36m150\u001b[0m\u001b[0;34m,\u001b[0m\u001b[0;36m150\u001b[0m\u001b[0;34m)\u001b[0m\u001b[0;34m)\u001b[0m\u001b[0;34m\u001b[0m\u001b[0;34m\u001b[0m\u001b[0m\n\u001b[1;32m      5\u001b[0m   \u001b[0mplt\u001b[0m\u001b[0;34m.\u001b[0m\u001b[0mimshow\u001b[0m\u001b[0;34m(\u001b[0m\u001b[0mimg\u001b[0m\u001b[0;34m)\u001b[0m\u001b[0;34m\u001b[0m\u001b[0;34m\u001b[0m\u001b[0m\n",
            "\u001b[0;31mFileNotFoundError\u001b[0m: [Errno 2] No such file or directory: '/content/drive/MyDrive/Colab Notebooks/BTVN/Food/Test/Test1'"
          ]
        }
      ]
    },
    {
      "cell_type": "code",
      "source": [
        "# Chuyển sang pdf\n",
        "from google.colab import drive\n",
        "drive.mount('/content/drive')\n",
        "!sudo apt-get install texlive-xetex texlive-fonts-recommended texlive-generic-recommended\n",
        "!wget -nc https://raw.githubusercontent.com/brpy/colab-pdf/master/colab_pdf.py\n",
        "from colab_pdf import colab_pdf\n",
        "colab_pdf('Food.ipynb')"
      ],
      "metadata": {
        "id": "Hf7xpxNiE0cG"
      },
      "execution_count": null,
      "outputs": []
    }
  ]
}