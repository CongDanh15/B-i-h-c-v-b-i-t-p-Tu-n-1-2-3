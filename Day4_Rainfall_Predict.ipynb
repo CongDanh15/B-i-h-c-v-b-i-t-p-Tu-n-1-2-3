{
  "nbformat": 4,
  "nbformat_minor": 0,
  "metadata": {
    "colab": {
      "provenance": [],
      "include_colab_link": true
    },
    "kernelspec": {
      "name": "python3",
      "display_name": "Python 3"
    },
    "language_info": {
      "name": "python"
    }
  },
  "cells": [
    {
      "cell_type": "markdown",
      "metadata": {
        "id": "view-in-github",
        "colab_type": "text"
      },
      "source": [
        "<a href=\"https://colab.research.google.com/github/CongDanh15/BT-AI/blob/main/Day4_Rainfall_Predict.ipynb\" target=\"_parent\"><img src=\"https://colab.research.google.com/assets/colab-badge.svg\" alt=\"Open In Colab\"/></a>"
      ]
    },
    {
      "cell_type": "code",
      "execution_count": null,
      "metadata": {
        "id": "nHzpsFpSsF4_",
        "colab": {
          "base_uri": "https://localhost:8080/"
        },
        "outputId": "e305c17f-6c46-4f40-8380-b6873812a4b2"
      },
      "outputs": [
        {
          "output_type": "stream",
          "name": "stdout",
          "text": [
            "Looking in indexes: https://pypi.org/simple, https://us-python.pkg.dev/colab-wheels/public/simple/\n",
            "Collecting scikit-fuzzy\n",
            "  Downloading scikit-fuzzy-0.4.2.tar.gz (993 kB)\n",
            "\u001b[K     |████████████████████████████████| 993 kB 5.0 MB/s \n",
            "\u001b[?25hRequirement already satisfied: numpy>=1.6.0 in /usr/local/lib/python3.7/dist-packages (from scikit-fuzzy) (1.21.6)\n",
            "Requirement already satisfied: scipy>=0.9.0 in /usr/local/lib/python3.7/dist-packages (from scikit-fuzzy) (1.7.3)\n",
            "Requirement already satisfied: networkx>=1.9.0 in /usr/local/lib/python3.7/dist-packages (from scikit-fuzzy) (2.6.3)\n",
            "Building wheels for collected packages: scikit-fuzzy\n",
            "  Building wheel for scikit-fuzzy (setup.py) ... \u001b[?25l\u001b[?25hdone\n",
            "  Created wheel for scikit-fuzzy: filename=scikit_fuzzy-0.4.2-py3-none-any.whl size=894089 sha256=a56a5be406fe7c68e1c291d051d9abe83226b75140f1a0c41f030dda2e484438\n",
            "  Stored in directory: /root/.cache/pip/wheels/d5/74/fc/38588a3d2e3f34f74588e6daa3aa5b0a322bd6f9420a707131\n",
            "Successfully built scikit-fuzzy\n",
            "Installing collected packages: scikit-fuzzy\n",
            "Successfully installed scikit-fuzzy-0.4.2\n"
          ]
        }
      ],
      "source": [
        "pip install scikit-fuzzy\n"
      ]
    },
    {
      "cell_type": "code",
      "source": [
        "pip install matplotlib\n"
      ],
      "metadata": {
        "colab": {
          "base_uri": "https://localhost:8080/"
        },
        "id": "xR9ygkxEukCd",
        "outputId": "c7df07e5-a56a-4d2e-9986-2fe498555930"
      },
      "execution_count": null,
      "outputs": [
        {
          "output_type": "stream",
          "name": "stdout",
          "text": [
            "Looking in indexes: https://pypi.org/simple, https://us-python.pkg.dev/colab-wheels/public/simple/\n",
            "Requirement already satisfied: matplotlib in /usr/local/lib/python3.7/dist-packages (3.2.2)\n",
            "Requirement already satisfied: cycler>=0.10 in /usr/local/lib/python3.7/dist-packages (from matplotlib) (0.11.0)\n",
            "Requirement already satisfied: python-dateutil>=2.1 in /usr/local/lib/python3.7/dist-packages (from matplotlib) (2.8.2)\n",
            "Requirement already satisfied: pyparsing!=2.0.4,!=2.1.2,!=2.1.6,>=2.0.1 in /usr/local/lib/python3.7/dist-packages (from matplotlib) (3.0.9)\n",
            "Requirement already satisfied: kiwisolver>=1.0.1 in /usr/local/lib/python3.7/dist-packages (from matplotlib) (1.4.4)\n",
            "Requirement already satisfied: numpy>=1.11 in /usr/local/lib/python3.7/dist-packages (from matplotlib) (1.21.6)\n",
            "Requirement already satisfied: typing-extensions in /usr/local/lib/python3.7/dist-packages (from kiwisolver>=1.0.1->matplotlib) (4.1.1)\n",
            "Requirement already satisfied: six>=1.5 in /usr/local/lib/python3.7/dist-packages (from python-dateutil>=2.1->matplotlib) (1.15.0)\n"
          ]
        }
      ]
    },
    {
      "cell_type": "code",
      "source": [
        "#-----------main\n",
        "import numpy as np\n",
        "import skfuzzy as fuzz\n",
        "from skfuzzy import control as ctrl\n",
        "\n",
        "temp=ctrl.Antecedent(np.arange(21.4,41.2,1),'temp')\n",
        "ws = ctrl.Antecedent(np.arange(0.7,3.1,0.1),'ws')\n",
        "rainfall=ctrl.Consequent(np.arange(0.2,9.1,0.1),'rainfall')\n",
        "\n",
        "\n",
        "#----------chia khoang\n",
        "#---temperature\n",
        "temp['VL']=fuzz.trimf(temp.universe,[21.4,21.4,26])\n",
        "temp['L']=fuzz.trimf(temp.universe,[21.4,26,31])\n",
        "temp['N']=fuzz.trimf(temp.universe,[26,31,36])\n",
        "temp['H']=fuzz.trimf(temp.universe,[31,36,41.2])\n",
        "temp['VH']=fuzz.trimf(temp.universe,[36,41.2,41.2])\n",
        "\n",
        "\n",
        "#------WINSPEED\n",
        "ws['VL']=fuzz.trimf(ws.universe,[0.7,0.7,1.3])\n",
        "ws['L']=fuzz.trimf(ws.universe,[0.7,1.3,1.9])\n",
        "ws['N']=fuzz.trimf(ws.universe,[1.3,1.9,2.5])\n",
        "ws['H']=fuzz.trimf(ws.universe,[1.9,2.5,3.31])\n",
        "ws['VH']=fuzz.trimf(ws.universe,[2.5,3.31,3.31])\n",
        "\n",
        "#rainfallouput\n",
        "rainfall['VL']=fuzz.trimf(rainfall.universe, [0.2,0.2,2])\n",
        "rainfall['L']=fuzz.trimf(rainfall.universe, [0.2,2,4])\n",
        "rainfall['N']=fuzz.trimf(rainfall.universe, [2,4,7])\n",
        "rainfall['H']=fuzz.trimf(rainfall.universe, [4,7,9.1])\n",
        "rainfall['VH']=fuzz.trimf(rainfall.universe, [7,9.1,9.1])\n",
        "\n",
        "#---------Rule\n",
        "rule1 = ctrl.Rule(temp['VL']&ws['VL'], rainfall['VL'])\n",
        "rule2 = ctrl.Rule(temp['VL']&ws['L'], rainfall['VL'])\n",
        "rule3 = ctrl.Rule(temp['VL']&ws['N'], rainfall['VL'])\n",
        "rule4 = ctrl.Rule(temp['VL']&ws['H'], rainfall['H'])\n",
        "rule5 = ctrl.Rule(temp['VL']&ws['VH'], rainfall['VH'])\n",
        "\n",
        "rule6 = ctrl.Rule(temp['L']&ws['VL'], rainfall['VL'])\n",
        "rule7 = ctrl.Rule(temp['L']&ws['L'], rainfall['VL'])\n",
        "rule8 = ctrl.Rule(temp['L']&ws['N'], rainfall['N'])\n",
        "rule9 = ctrl.Rule(temp['L']&ws['H'], rainfall['N'])\n",
        "rule10 = ctrl.Rule(temp['L']&ws['VH'], rainfall['H'])\n",
        "\n",
        "rule11 = ctrl.Rule(temp['N']&ws['VL'], rainfall['N'])\n",
        "rule12 = ctrl.Rule(temp['N']&ws['L'], rainfall['N'])\n",
        "rule13 = ctrl.Rule(temp['N']&ws['N'], rainfall['N'])\n",
        "rule14 = ctrl.Rule(temp['N']&ws['H'], rainfall['H'])\n",
        "rule15 = ctrl.Rule(temp['N']&ws['VH'], rainfall['H'])\n",
        "\n",
        "rule16 = ctrl.Rule(temp['H']&ws['VL'], rainfall['L'])\n",
        "rule17 = ctrl.Rule(temp['H']&ws['L'], rainfall['L'])\n",
        "rule18 = ctrl.Rule(temp['H']&ws['N'], rainfall['L'])\n",
        "rule19 = ctrl.Rule(temp['H']&ws['H'], rainfall['H'])\n",
        "rule20 = ctrl.Rule(temp['H']&ws['VH'], rainfall['VH'])\n",
        "\n",
        "rule21 = ctrl.Rule(temp['VH']&ws['VL'], rainfall['N'])\n",
        "rule22 = ctrl.Rule(temp['VH']&ws['L'], rainfall['L'])\n",
        "rule23 = ctrl.Rule(temp['VH']&ws['N'], rainfall['L'])\n",
        "rule24 = ctrl.Rule(temp['VH']&ws['H'], rainfall['VH'])\n",
        "rule25 = ctrl.Rule(temp['VH']&ws['VH'], rainfall['VH'])\n",
        "\n",
        "\n",
        "\n",
        "RAINFALLING_ctrl = ctrl.ControlSystem([rule1,rule2,rule3,rule4,rule5,rule6,rule7,rule8,rule9,rule10,rule11,rule12,rule13,rule14,rule15,rule16,rule17,rule18,rule19,rule20,rule20,rule21,rule22,rule23,rule24,rule25])\n",
        "RAINFALLING = ctrl.ControlSystemSimulation(RAINFALLING_ctrl)\n",
        "\n",
        "RAINFALLING.input['temp']=float(input(\"Nhập nhiệt độ (từ 20.4 đến 41.2 (đơn vị độ C)) : \"))\n",
        "RAINFALLING.input['ws']=float(input(\"Nhập thời gian (từ 0.7 đến 3.1 (đơn vị m/s)) : \"))\n",
        "RAINFALLING.compute()\n",
        "\n",
        "print(\"Lượng mưa là: \" ,round((RAINFALLING.output['rainfall']),1),\"mm\")\n",
        "\n",
        "'''temp.view()\n",
        "ws.view()'''\n",
        "rainfall.view(sim=RAINFALLING)\n"
      ],
      "metadata": {
        "colab": {
          "base_uri": "https://localhost:8080/",
          "height": 336
        },
        "id": "iUpnjQRLvAfb",
        "outputId": "b23f6f2d-02ee-4cd7-8f47-2f3f9b4b445e"
      },
      "execution_count": null,
      "outputs": [
        {
          "output_type": "stream",
          "name": "stdout",
          "text": [
            "Nhập nhiệt độ (từ 20.4 đến 41.2 (đơn vị độ C)) : 30\n",
            "Nhập thời gian (từ 0.7 đến 3.1 (đơn vị m/s)) : 3\n",
            "Lượng mưa là:  6.1 mm\n"
          ]
        },
        {
          "output_type": "display_data",
          "data": {
            "text/plain": [
              "<Figure size 432x288 with 1 Axes>"
            ],
            "image/png": "[encoded data removed]"
          },
          "metadata": {
            "needs_background": "light"
          }
        }
      ]
    }
  ]
}